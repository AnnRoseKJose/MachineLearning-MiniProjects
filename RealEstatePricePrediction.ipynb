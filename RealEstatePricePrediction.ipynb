{
 "cells": [
  {
   "cell_type": "code",
   "execution_count": 1,
   "id": "f461a2e2-e269-4ad2-87f7-afb5b2205165",
   "metadata": {},
   "outputs": [],
   "source": [
    "import numpy as np\n",
    "import pandas as pd\n",
    "from matplotlib import pyplot as plt\n",
    "import seaborn as sns\n",
    "%matplotlib inline\n",
    "import matplotlib\n",
    "matplotlib.rcParams[\"figure.figsize\"] = (20,10)"
   ]
  },
  {
   "cell_type": "markdown",
   "id": "8154f019-998d-426f-9a32-31c0fba834c8",
   "metadata": {
    "jp-MarkdownHeadingCollapsed": true,
    "tags": []
   },
   "source": [
    "# Data Loading"
   ]
  },
  {
   "cell_type": "code",
   "execution_count": 2,
   "id": "2e8b9cd4-fd8a-44c4-8c0c-1327639cb332",
   "metadata": {},
   "outputs": [
    {
     "data": {
      "text/html": [
       "<div>\n",
       "<style scoped>\n",
       "    .dataframe tbody tr th:only-of-type {\n",
       "        vertical-align: middle;\n",
       "    }\n",
       "\n",
       "    .dataframe tbody tr th {\n",
       "        vertical-align: top;\n",
       "    }\n",
       "\n",
       "    .dataframe thead th {\n",
       "        text-align: right;\n",
       "    }\n",
       "</style>\n",
       "<table border=\"1\" class=\"dataframe\">\n",
       "  <thead>\n",
       "    <tr style=\"text-align: right;\">\n",
       "      <th></th>\n",
       "      <th>area_type</th>\n",
       "      <th>availability</th>\n",
       "      <th>location</th>\n",
       "      <th>size</th>\n",
       "      <th>society</th>\n",
       "      <th>total_sqft</th>\n",
       "      <th>bath</th>\n",
       "      <th>balcony</th>\n",
       "      <th>price</th>\n",
       "    </tr>\n",
       "  </thead>\n",
       "  <tbody>\n",
       "    <tr>\n",
       "      <th>0</th>\n",
       "      <td>Super built-up  Area</td>\n",
       "      <td>19-Dec</td>\n",
       "      <td>Electronic City Phase II</td>\n",
       "      <td>2 BHK</td>\n",
       "      <td>Coomee</td>\n",
       "      <td>1056</td>\n",
       "      <td>2.0</td>\n",
       "      <td>1.0</td>\n",
       "      <td>39.07</td>\n",
       "    </tr>\n",
       "    <tr>\n",
       "      <th>1</th>\n",
       "      <td>Plot  Area</td>\n",
       "      <td>Ready To Move</td>\n",
       "      <td>Chikka Tirupathi</td>\n",
       "      <td>4 Bedroom</td>\n",
       "      <td>Theanmp</td>\n",
       "      <td>2600</td>\n",
       "      <td>5.0</td>\n",
       "      <td>3.0</td>\n",
       "      <td>120.00</td>\n",
       "    </tr>\n",
       "    <tr>\n",
       "      <th>2</th>\n",
       "      <td>Built-up  Area</td>\n",
       "      <td>Ready To Move</td>\n",
       "      <td>Uttarahalli</td>\n",
       "      <td>3 BHK</td>\n",
       "      <td>NaN</td>\n",
       "      <td>1440</td>\n",
       "      <td>2.0</td>\n",
       "      <td>3.0</td>\n",
       "      <td>62.00</td>\n",
       "    </tr>\n",
       "    <tr>\n",
       "      <th>3</th>\n",
       "      <td>Super built-up  Area</td>\n",
       "      <td>Ready To Move</td>\n",
       "      <td>Lingadheeranahalli</td>\n",
       "      <td>3 BHK</td>\n",
       "      <td>Soiewre</td>\n",
       "      <td>1521</td>\n",
       "      <td>3.0</td>\n",
       "      <td>1.0</td>\n",
       "      <td>95.00</td>\n",
       "    </tr>\n",
       "    <tr>\n",
       "      <th>4</th>\n",
       "      <td>Super built-up  Area</td>\n",
       "      <td>Ready To Move</td>\n",
       "      <td>Kothanur</td>\n",
       "      <td>2 BHK</td>\n",
       "      <td>NaN</td>\n",
       "      <td>1200</td>\n",
       "      <td>2.0</td>\n",
       "      <td>1.0</td>\n",
       "      <td>51.00</td>\n",
       "    </tr>\n",
       "    <tr>\n",
       "      <th>...</th>\n",
       "      <td>...</td>\n",
       "      <td>...</td>\n",
       "      <td>...</td>\n",
       "      <td>...</td>\n",
       "      <td>...</td>\n",
       "      <td>...</td>\n",
       "      <td>...</td>\n",
       "      <td>...</td>\n",
       "      <td>...</td>\n",
       "    </tr>\n",
       "    <tr>\n",
       "      <th>13315</th>\n",
       "      <td>Built-up  Area</td>\n",
       "      <td>Ready To Move</td>\n",
       "      <td>Whitefield</td>\n",
       "      <td>5 Bedroom</td>\n",
       "      <td>ArsiaEx</td>\n",
       "      <td>3453</td>\n",
       "      <td>4.0</td>\n",
       "      <td>0.0</td>\n",
       "      <td>231.00</td>\n",
       "    </tr>\n",
       "    <tr>\n",
       "      <th>13316</th>\n",
       "      <td>Super built-up  Area</td>\n",
       "      <td>Ready To Move</td>\n",
       "      <td>Richards Town</td>\n",
       "      <td>4 BHK</td>\n",
       "      <td>NaN</td>\n",
       "      <td>3600</td>\n",
       "      <td>5.0</td>\n",
       "      <td>NaN</td>\n",
       "      <td>400.00</td>\n",
       "    </tr>\n",
       "    <tr>\n",
       "      <th>13317</th>\n",
       "      <td>Built-up  Area</td>\n",
       "      <td>Ready To Move</td>\n",
       "      <td>Raja Rajeshwari Nagar</td>\n",
       "      <td>2 BHK</td>\n",
       "      <td>Mahla T</td>\n",
       "      <td>1141</td>\n",
       "      <td>2.0</td>\n",
       "      <td>1.0</td>\n",
       "      <td>60.00</td>\n",
       "    </tr>\n",
       "    <tr>\n",
       "      <th>13318</th>\n",
       "      <td>Super built-up  Area</td>\n",
       "      <td>18-Jun</td>\n",
       "      <td>Padmanabhanagar</td>\n",
       "      <td>4 BHK</td>\n",
       "      <td>SollyCl</td>\n",
       "      <td>4689</td>\n",
       "      <td>4.0</td>\n",
       "      <td>1.0</td>\n",
       "      <td>488.00</td>\n",
       "    </tr>\n",
       "    <tr>\n",
       "      <th>13319</th>\n",
       "      <td>Super built-up  Area</td>\n",
       "      <td>Ready To Move</td>\n",
       "      <td>Doddathoguru</td>\n",
       "      <td>1 BHK</td>\n",
       "      <td>NaN</td>\n",
       "      <td>550</td>\n",
       "      <td>1.0</td>\n",
       "      <td>1.0</td>\n",
       "      <td>17.00</td>\n",
       "    </tr>\n",
       "  </tbody>\n",
       "</table>\n",
       "<p>13320 rows × 9 columns</p>\n",
       "</div>"
      ],
      "text/plain": [
       "                  area_type   availability                  location  \\\n",
       "0      Super built-up  Area         19-Dec  Electronic City Phase II   \n",
       "1                Plot  Area  Ready To Move          Chikka Tirupathi   \n",
       "2            Built-up  Area  Ready To Move               Uttarahalli   \n",
       "3      Super built-up  Area  Ready To Move        Lingadheeranahalli   \n",
       "4      Super built-up  Area  Ready To Move                  Kothanur   \n",
       "...                     ...            ...                       ...   \n",
       "13315        Built-up  Area  Ready To Move                Whitefield   \n",
       "13316  Super built-up  Area  Ready To Move             Richards Town   \n",
       "13317        Built-up  Area  Ready To Move     Raja Rajeshwari Nagar   \n",
       "13318  Super built-up  Area         18-Jun           Padmanabhanagar   \n",
       "13319  Super built-up  Area  Ready To Move              Doddathoguru   \n",
       "\n",
       "            size  society total_sqft  bath  balcony   price  \n",
       "0          2 BHK  Coomee        1056   2.0      1.0   39.07  \n",
       "1      4 Bedroom  Theanmp       2600   5.0      3.0  120.00  \n",
       "2          3 BHK      NaN       1440   2.0      3.0   62.00  \n",
       "3          3 BHK  Soiewre       1521   3.0      1.0   95.00  \n",
       "4          2 BHK      NaN       1200   2.0      1.0   51.00  \n",
       "...          ...      ...        ...   ...      ...     ...  \n",
       "13315  5 Bedroom  ArsiaEx       3453   4.0      0.0  231.00  \n",
       "13316      4 BHK      NaN       3600   5.0      NaN  400.00  \n",
       "13317      2 BHK  Mahla T       1141   2.0      1.0   60.00  \n",
       "13318      4 BHK  SollyCl       4689   4.0      1.0  488.00  \n",
       "13319      1 BHK      NaN        550   1.0      1.0   17.00  \n",
       "\n",
       "[13320 rows x 9 columns]"
      ]
     },
     "execution_count": 2,
     "metadata": {},
     "output_type": "execute_result"
    }
   ],
   "source": [
    "df=pd.read_csv(\"Bengaluru_House_Data.csv\")\n",
    "df"
   ]
  },
  {
   "cell_type": "markdown",
   "id": "5daec9e1-c492-43a7-852f-61cd71608cf6",
   "metadata": {
    "tags": []
   },
   "source": [
    "# Data Info"
   ]
  },
  {
   "cell_type": "code",
   "execution_count": 3,
   "id": "fced27f6-9d92-435d-940b-8e77b73bfffa",
   "metadata": {},
   "outputs": [
    {
     "data": {
      "text/plain": [
       "(13320, 9)"
      ]
     },
     "execution_count": 3,
     "metadata": {},
     "output_type": "execute_result"
    }
   ],
   "source": [
    "df.shape"
   ]
  },
  {
   "cell_type": "code",
   "execution_count": 4,
   "id": "f555f6ff-787f-4ba0-a2dc-7bf29a7ac664",
   "metadata": {},
   "outputs": [
    {
     "name": "stdout",
     "output_type": "stream",
     "text": [
      "<class 'pandas.core.frame.DataFrame'>\n",
      "RangeIndex: 13320 entries, 0 to 13319\n",
      "Data columns (total 9 columns):\n",
      " #   Column        Non-Null Count  Dtype  \n",
      "---  ------        --------------  -----  \n",
      " 0   area_type     13320 non-null  object \n",
      " 1   availability  13320 non-null  object \n",
      " 2   location      13319 non-null  object \n",
      " 3   size          13304 non-null  object \n",
      " 4   society       7818 non-null   object \n",
      " 5   total_sqft    13320 non-null  object \n",
      " 6   bath          13247 non-null  float64\n",
      " 7   balcony       12711 non-null  float64\n",
      " 8   price         13320 non-null  float64\n",
      "dtypes: float64(3), object(6)\n",
      "memory usage: 936.7+ KB\n"
     ]
    }
   ],
   "source": [
    "df.info()"
   ]
  },
  {
   "cell_type": "code",
   "execution_count": 5,
   "id": "f4d962b5-08c2-41f4-b954-ca2ea1859d2f",
   "metadata": {},
   "outputs": [
    {
     "data": {
      "text/plain": [
       "area_type       13320\n",
       "availability    13320\n",
       "location        13319\n",
       "size            13304\n",
       "society          7818\n",
       "total_sqft      13320\n",
       "bath            13247\n",
       "balcony         12711\n",
       "price           13320\n",
       "dtype: int64"
      ]
     },
     "execution_count": 5,
     "metadata": {},
     "output_type": "execute_result"
    }
   ],
   "source": [
    "df.count()"
   ]
  },
  {
   "cell_type": "code",
   "execution_count": 6,
   "id": "681b5374-70b6-4070-8b08-ef96ff186e21",
   "metadata": {},
   "outputs": [
    {
     "data": {
      "text/html": [
       "<div>\n",
       "<style scoped>\n",
       "    .dataframe tbody tr th:only-of-type {\n",
       "        vertical-align: middle;\n",
       "    }\n",
       "\n",
       "    .dataframe tbody tr th {\n",
       "        vertical-align: top;\n",
       "    }\n",
       "\n",
       "    .dataframe thead th {\n",
       "        text-align: right;\n",
       "    }\n",
       "</style>\n",
       "<table border=\"1\" class=\"dataframe\">\n",
       "  <thead>\n",
       "    <tr style=\"text-align: right;\">\n",
       "      <th></th>\n",
       "      <th>bath</th>\n",
       "      <th>balcony</th>\n",
       "      <th>price</th>\n",
       "    </tr>\n",
       "  </thead>\n",
       "  <tbody>\n",
       "    <tr>\n",
       "      <th>count</th>\n",
       "      <td>13247.000000</td>\n",
       "      <td>12711.000000</td>\n",
       "      <td>13320.000000</td>\n",
       "    </tr>\n",
       "    <tr>\n",
       "      <th>mean</th>\n",
       "      <td>2.692610</td>\n",
       "      <td>1.584376</td>\n",
       "      <td>112.565627</td>\n",
       "    </tr>\n",
       "    <tr>\n",
       "      <th>std</th>\n",
       "      <td>1.341458</td>\n",
       "      <td>0.817263</td>\n",
       "      <td>148.971674</td>\n",
       "    </tr>\n",
       "    <tr>\n",
       "      <th>min</th>\n",
       "      <td>1.000000</td>\n",
       "      <td>0.000000</td>\n",
       "      <td>8.000000</td>\n",
       "    </tr>\n",
       "    <tr>\n",
       "      <th>25%</th>\n",
       "      <td>2.000000</td>\n",
       "      <td>1.000000</td>\n",
       "      <td>50.000000</td>\n",
       "    </tr>\n",
       "    <tr>\n",
       "      <th>50%</th>\n",
       "      <td>2.000000</td>\n",
       "      <td>2.000000</td>\n",
       "      <td>72.000000</td>\n",
       "    </tr>\n",
       "    <tr>\n",
       "      <th>75%</th>\n",
       "      <td>3.000000</td>\n",
       "      <td>2.000000</td>\n",
       "      <td>120.000000</td>\n",
       "    </tr>\n",
       "    <tr>\n",
       "      <th>max</th>\n",
       "      <td>40.000000</td>\n",
       "      <td>3.000000</td>\n",
       "      <td>3600.000000</td>\n",
       "    </tr>\n",
       "  </tbody>\n",
       "</table>\n",
       "</div>"
      ],
      "text/plain": [
       "               bath       balcony         price\n",
       "count  13247.000000  12711.000000  13320.000000\n",
       "mean       2.692610      1.584376    112.565627\n",
       "std        1.341458      0.817263    148.971674\n",
       "min        1.000000      0.000000      8.000000\n",
       "25%        2.000000      1.000000     50.000000\n",
       "50%        2.000000      2.000000     72.000000\n",
       "75%        3.000000      2.000000    120.000000\n",
       "max       40.000000      3.000000   3600.000000"
      ]
     },
     "execution_count": 6,
     "metadata": {},
     "output_type": "execute_result"
    }
   ],
   "source": [
    "df.describe()"
   ]
  },
  {
   "cell_type": "code",
   "execution_count": 39,
   "id": "17a18a10-d37a-4f66-b22b-8ca9ff48f897",
   "metadata": {},
   "outputs": [
    {
     "data": {
      "text/plain": [
       "area_type\n",
       "Built-up  Area          2418\n",
       "Carpet  Area              87\n",
       "Plot  Area              2025\n",
       "Super built-up  Area    8790\n",
       "Name: area_type, dtype: int64"
      ]
     },
     "execution_count": 39,
     "metadata": {},
     "output_type": "execute_result"
    }
   ],
   "source": [
    "#to get count of each area-type\n",
    "df.groupby('area_type')['area_type'].agg('count')"
   ]
  },
  {
   "cell_type": "code",
   "execution_count": 26,
   "id": "88ae94f8-8609-4a16-9719-e87765270b91",
   "metadata": {},
   "outputs": [
    {
     "data": {
      "text/html": [
       "<div>\n",
       "<style scoped>\n",
       "    .dataframe tbody tr th:only-of-type {\n",
       "        vertical-align: middle;\n",
       "    }\n",
       "\n",
       "    .dataframe tbody tr th {\n",
       "        vertical-align: top;\n",
       "    }\n",
       "\n",
       "    .dataframe thead th {\n",
       "        text-align: right;\n",
       "    }\n",
       "</style>\n",
       "<table border=\"1\" class=\"dataframe\">\n",
       "  <thead>\n",
       "    <tr style=\"text-align: right;\">\n",
       "      <th></th>\n",
       "      <th>area_type</th>\n",
       "      <th>availability</th>\n",
       "      <th>location</th>\n",
       "      <th>size</th>\n",
       "      <th>society</th>\n",
       "      <th>total_sqft</th>\n",
       "      <th>bath</th>\n",
       "      <th>balcony</th>\n",
       "      <th>price</th>\n",
       "    </tr>\n",
       "  </thead>\n",
       "  <tbody>\n",
       "    <tr>\n",
       "      <th>1576</th>\n",
       "      <td>Super built-up  Area</td>\n",
       "      <td>16-Dec</td>\n",
       "      <td>Yelachenahalli</td>\n",
       "      <td>2 BHK</td>\n",
       "      <td>NaN</td>\n",
       "      <td>2400</td>\n",
       "      <td>1.0</td>\n",
       "      <td>1.0</td>\n",
       "      <td>150.0</td>\n",
       "    </tr>\n",
       "    <tr>\n",
       "      <th>6432</th>\n",
       "      <td>Plot  Area</td>\n",
       "      <td>16-Dec</td>\n",
       "      <td>Sarjapura - Attibele Road</td>\n",
       "      <td>3 Bedroom</td>\n",
       "      <td>NaN</td>\n",
       "      <td>1800</td>\n",
       "      <td>3.0</td>\n",
       "      <td>2.0</td>\n",
       "      <td>90.0</td>\n",
       "    </tr>\n",
       "    <tr>\n",
       "      <th>8840</th>\n",
       "      <td>Plot  Area</td>\n",
       "      <td>16-Dec</td>\n",
       "      <td>Chikka Tirupathi</td>\n",
       "      <td>4 Bedroom</td>\n",
       "      <td>Theanmp</td>\n",
       "      <td>4500</td>\n",
       "      <td>5.0</td>\n",
       "      <td>3.0</td>\n",
       "      <td>150.0</td>\n",
       "    </tr>\n",
       "    <tr>\n",
       "      <th>9113</th>\n",
       "      <td>Super built-up  Area</td>\n",
       "      <td>16-Dec</td>\n",
       "      <td>Hegde Nagar</td>\n",
       "      <td>3 BHK</td>\n",
       "      <td>Soiniy</td>\n",
       "      <td>1703</td>\n",
       "      <td>3.0</td>\n",
       "      <td>2.0</td>\n",
       "      <td>130.0</td>\n",
       "    </tr>\n",
       "  </tbody>\n",
       "</table>\n",
       "</div>"
      ],
      "text/plain": [
       "                 area_type availability                   location       size  \\\n",
       "1576  Super built-up  Area       16-Dec             Yelachenahalli      2 BHK   \n",
       "6432            Plot  Area       16-Dec  Sarjapura - Attibele Road  3 Bedroom   \n",
       "8840            Plot  Area       16-Dec           Chikka Tirupathi  4 Bedroom   \n",
       "9113  Super built-up  Area       16-Dec                Hegde Nagar      3 BHK   \n",
       "\n",
       "      society total_sqft  bath  balcony  price  \n",
       "1576      NaN       2400   1.0      1.0  150.0  \n",
       "6432      NaN       1800   3.0      2.0   90.0  \n",
       "8840  Theanmp       4500   5.0      3.0  150.0  \n",
       "9113  Soiniy        1703   3.0      2.0  130.0  "
      ]
     },
     "execution_count": 26,
     "metadata": {},
     "output_type": "execute_result"
    }
   ],
   "source": [
    "#to get houses available on 16-Dec\n",
    "df.loc[df['availability'] == '16-Dec']"
   ]
  },
  {
   "cell_type": "code",
   "execution_count": 22,
   "id": "86a9de17-5eef-419b-9b12-6f0c6b4c0e25",
   "metadata": {},
   "outputs": [
    {
     "data": {
      "text/html": [
       "<div>\n",
       "<style scoped>\n",
       "    .dataframe tbody tr th:only-of-type {\n",
       "        vertical-align: middle;\n",
       "    }\n",
       "\n",
       "    .dataframe tbody tr th {\n",
       "        vertical-align: top;\n",
       "    }\n",
       "\n",
       "    .dataframe thead th {\n",
       "        text-align: right;\n",
       "    }\n",
       "</style>\n",
       "<table border=\"1\" class=\"dataframe\">\n",
       "  <thead>\n",
       "    <tr style=\"text-align: right;\">\n",
       "      <th></th>\n",
       "      <th>area_type</th>\n",
       "      <th>availability</th>\n",
       "      <th>location</th>\n",
       "      <th>size</th>\n",
       "      <th>society</th>\n",
       "      <th>total_sqft</th>\n",
       "      <th>bath</th>\n",
       "      <th>balcony</th>\n",
       "      <th>price</th>\n",
       "    </tr>\n",
       "  </thead>\n",
       "  <tbody>\n",
       "    <tr>\n",
       "      <th>1</th>\n",
       "      <td>Plot  Area</td>\n",
       "      <td>Ready To Move</td>\n",
       "      <td>Chikka Tirupathi</td>\n",
       "      <td>4 Bedroom</td>\n",
       "      <td>Theanmp</td>\n",
       "      <td>2600</td>\n",
       "      <td>5.0</td>\n",
       "      <td>3.0</td>\n",
       "      <td>120.0</td>\n",
       "    </tr>\n",
       "    <tr>\n",
       "      <th>1265</th>\n",
       "      <td>Plot  Area</td>\n",
       "      <td>Ready To Move</td>\n",
       "      <td>Chikka Tirupathi</td>\n",
       "      <td>4 Bedroom</td>\n",
       "      <td>Theanmp</td>\n",
       "      <td>2325</td>\n",
       "      <td>4.0</td>\n",
       "      <td>1.0</td>\n",
       "      <td>120.0</td>\n",
       "    </tr>\n",
       "    <tr>\n",
       "      <th>1535</th>\n",
       "      <td>Built-up  Area</td>\n",
       "      <td>Ready To Move</td>\n",
       "      <td>Chikka Tirupathi</td>\n",
       "      <td>5 Bedroom</td>\n",
       "      <td>Theanmp</td>\n",
       "      <td>3356</td>\n",
       "      <td>5.0</td>\n",
       "      <td>2.0</td>\n",
       "      <td>105.0</td>\n",
       "    </tr>\n",
       "    <tr>\n",
       "      <th>2675</th>\n",
       "      <td>Plot  Area</td>\n",
       "      <td>18-May</td>\n",
       "      <td>Chikka Tirupathi</td>\n",
       "      <td>3 Bedroom</td>\n",
       "      <td>Theanmp</td>\n",
       "      <td>3297</td>\n",
       "      <td>3.0</td>\n",
       "      <td>1.0</td>\n",
       "      <td>135.0</td>\n",
       "    </tr>\n",
       "    <tr>\n",
       "      <th>2745</th>\n",
       "      <td>Plot  Area</td>\n",
       "      <td>18-Dec</td>\n",
       "      <td>Chikka Tirupathi</td>\n",
       "      <td>4 Bedroom</td>\n",
       "      <td>Theanmp</td>\n",
       "      <td>3500</td>\n",
       "      <td>5.0</td>\n",
       "      <td>3.0</td>\n",
       "      <td>150.0</td>\n",
       "    </tr>\n",
       "    <tr>\n",
       "      <th>8394</th>\n",
       "      <td>Plot  Area</td>\n",
       "      <td>Ready To Move</td>\n",
       "      <td>Chikka Tirupathi</td>\n",
       "      <td>4 Bedroom</td>\n",
       "      <td>Theanmp</td>\n",
       "      <td>3056</td>\n",
       "      <td>5.0</td>\n",
       "      <td>NaN</td>\n",
       "      <td>100.0</td>\n",
       "    </tr>\n",
       "    <tr>\n",
       "      <th>8840</th>\n",
       "      <td>Plot  Area</td>\n",
       "      <td>16-Dec</td>\n",
       "      <td>Chikka Tirupathi</td>\n",
       "      <td>4 Bedroom</td>\n",
       "      <td>Theanmp</td>\n",
       "      <td>4500</td>\n",
       "      <td>5.0</td>\n",
       "      <td>3.0</td>\n",
       "      <td>150.0</td>\n",
       "    </tr>\n",
       "    <tr>\n",
       "      <th>8877</th>\n",
       "      <td>Built-up  Area</td>\n",
       "      <td>Ready To Move</td>\n",
       "      <td>Chikka Tirupathi</td>\n",
       "      <td>4 Bedroom</td>\n",
       "      <td>Theanmp</td>\n",
       "      <td>2704</td>\n",
       "      <td>5.0</td>\n",
       "      <td>0.0</td>\n",
       "      <td>105.0</td>\n",
       "    </tr>\n",
       "    <tr>\n",
       "      <th>10018</th>\n",
       "      <td>Plot  Area</td>\n",
       "      <td>18-Mar</td>\n",
       "      <td>Chikka Tirupathi</td>\n",
       "      <td>3 Bedroom</td>\n",
       "      <td>Theanmp</td>\n",
       "      <td>2325</td>\n",
       "      <td>3.0</td>\n",
       "      <td>NaN</td>\n",
       "      <td>95.0</td>\n",
       "    </tr>\n",
       "    <tr>\n",
       "      <th>11348</th>\n",
       "      <td>Plot  Area</td>\n",
       "      <td>Ready To Move</td>\n",
       "      <td>Chikka Tirupathi</td>\n",
       "      <td>4 Bedroom</td>\n",
       "      <td>Theanmp</td>\n",
       "      <td>2325</td>\n",
       "      <td>4.0</td>\n",
       "      <td>1.0</td>\n",
       "      <td>120.0</td>\n",
       "    </tr>\n",
       "    <tr>\n",
       "      <th>11792</th>\n",
       "      <td>Built-up  Area</td>\n",
       "      <td>Ready To Move</td>\n",
       "      <td>Chikka Tirupathi</td>\n",
       "      <td>4 Bedroom</td>\n",
       "      <td>Theanmp</td>\n",
       "      <td>3250</td>\n",
       "      <td>4.0</td>\n",
       "      <td>2.0</td>\n",
       "      <td>136.0</td>\n",
       "    </tr>\n",
       "    <tr>\n",
       "      <th>12313</th>\n",
       "      <td>Plot  Area</td>\n",
       "      <td>Ready To Move</td>\n",
       "      <td>Chikka Tirupathi</td>\n",
       "      <td>3 Bedroom</td>\n",
       "      <td>Theanmp</td>\n",
       "      <td>2153</td>\n",
       "      <td>4.0</td>\n",
       "      <td>3.0</td>\n",
       "      <td>120.0</td>\n",
       "    </tr>\n",
       "    <tr>\n",
       "      <th>12959</th>\n",
       "      <td>Plot  Area</td>\n",
       "      <td>Ready To Move</td>\n",
       "      <td>Chikka Tirupathi</td>\n",
       "      <td>4 Bedroom</td>\n",
       "      <td>Theanmp</td>\n",
       "      <td>2665</td>\n",
       "      <td>5.0</td>\n",
       "      <td>3.0</td>\n",
       "      <td>125.0</td>\n",
       "    </tr>\n",
       "  </tbody>\n",
       "</table>\n",
       "</div>"
      ],
      "text/plain": [
       "            area_type   availability          location       size  society  \\\n",
       "1          Plot  Area  Ready To Move  Chikka Tirupathi  4 Bedroom  Theanmp   \n",
       "1265       Plot  Area  Ready To Move  Chikka Tirupathi  4 Bedroom  Theanmp   \n",
       "1535   Built-up  Area  Ready To Move  Chikka Tirupathi  5 Bedroom  Theanmp   \n",
       "2675       Plot  Area         18-May  Chikka Tirupathi  3 Bedroom  Theanmp   \n",
       "2745       Plot  Area         18-Dec  Chikka Tirupathi  4 Bedroom  Theanmp   \n",
       "8394       Plot  Area  Ready To Move  Chikka Tirupathi  4 Bedroom  Theanmp   \n",
       "8840       Plot  Area         16-Dec  Chikka Tirupathi  4 Bedroom  Theanmp   \n",
       "8877   Built-up  Area  Ready To Move  Chikka Tirupathi  4 Bedroom  Theanmp   \n",
       "10018      Plot  Area         18-Mar  Chikka Tirupathi  3 Bedroom  Theanmp   \n",
       "11348      Plot  Area  Ready To Move  Chikka Tirupathi  4 Bedroom  Theanmp   \n",
       "11792  Built-up  Area  Ready To Move  Chikka Tirupathi  4 Bedroom  Theanmp   \n",
       "12313      Plot  Area  Ready To Move  Chikka Tirupathi  3 Bedroom  Theanmp   \n",
       "12959      Plot  Area  Ready To Move  Chikka Tirupathi  4 Bedroom  Theanmp   \n",
       "\n",
       "      total_sqft  bath  balcony  price  \n",
       "1           2600   5.0      3.0  120.0  \n",
       "1265        2325   4.0      1.0  120.0  \n",
       "1535        3356   5.0      2.0  105.0  \n",
       "2675        3297   3.0      1.0  135.0  \n",
       "2745        3500   5.0      3.0  150.0  \n",
       "8394        3056   5.0      NaN  100.0  \n",
       "8840        4500   5.0      3.0  150.0  \n",
       "8877        2704   5.0      0.0  105.0  \n",
       "10018       2325   3.0      NaN   95.0  \n",
       "11348       2325   4.0      1.0  120.0  \n",
       "11792       3250   4.0      2.0  136.0  \n",
       "12313       2153   4.0      3.0  120.0  \n",
       "12959       2665   5.0      3.0  125.0  "
      ]
     },
     "execution_count": 22,
     "metadata": {},
     "output_type": "execute_result"
    }
   ],
   "source": [
    "#to get Theanmp houses \n",
    "df.loc[df['society'] == 'Theanmp']"
   ]
  },
  {
   "cell_type": "code",
   "execution_count": 21,
   "id": "48dfcefd-b8cb-432f-b15e-0229b94fe685",
   "metadata": {},
   "outputs": [
    {
     "name": "stdout",
     "output_type": "stream",
     "text": [
      "No of 5 bedroom houses =  297\n"
     ]
    }
   ],
   "source": [
    "#to get no. of 5 bedroom houses \n",
    "print(\"No of 5 bedroom houses = \",len(df.loc[df['size'] == '5 Bedroom']))"
   ]
  },
  {
   "cell_type": "code",
   "execution_count": 35,
   "id": "c096df63-6460-4e2c-86f6-bb6b65e7388f",
   "metadata": {},
   "outputs": [
    {
     "data": {
      "text/plain": [
       "3600.0"
      ]
     },
     "execution_count": 35,
     "metadata": {},
     "output_type": "execute_result"
    }
   ],
   "source": [
    "#to get houses with max price above\n",
    "df['price'].max()"
   ]
  },
  {
   "cell_type": "code",
   "execution_count": 38,
   "id": "c772b0da-6d11-4d29-be24-348f6e9de776",
   "metadata": {},
   "outputs": [
    {
     "data": {
      "text/html": [
       "<div>\n",
       "<style scoped>\n",
       "    .dataframe tbody tr th:only-of-type {\n",
       "        vertical-align: middle;\n",
       "    }\n",
       "\n",
       "    .dataframe tbody tr th {\n",
       "        vertical-align: top;\n",
       "    }\n",
       "\n",
       "    .dataframe thead th {\n",
       "        text-align: right;\n",
       "    }\n",
       "</style>\n",
       "<table border=\"1\" class=\"dataframe\">\n",
       "  <thead>\n",
       "    <tr style=\"text-align: right;\">\n",
       "      <th></th>\n",
       "      <th>area_type</th>\n",
       "      <th>availability</th>\n",
       "      <th>location</th>\n",
       "      <th>size</th>\n",
       "      <th>society</th>\n",
       "      <th>total_sqft</th>\n",
       "      <th>bath</th>\n",
       "      <th>balcony</th>\n",
       "      <th>price</th>\n",
       "    </tr>\n",
       "  </thead>\n",
       "  <tbody>\n",
       "    <tr>\n",
       "      <th>7</th>\n",
       "      <td>Super built-up  Area</td>\n",
       "      <td>Ready To Move</td>\n",
       "      <td>Rajaji Nagar</td>\n",
       "      <td>4 BHK</td>\n",
       "      <td>Brway G</td>\n",
       "      <td>3300</td>\n",
       "      <td>4.0</td>\n",
       "      <td>NaN</td>\n",
       "      <td>600.0</td>\n",
       "    </tr>\n",
       "    <tr>\n",
       "      <th>62</th>\n",
       "      <td>Plot  Area</td>\n",
       "      <td>Ready To Move</td>\n",
       "      <td>Whitefield</td>\n",
       "      <td>4 Bedroom</td>\n",
       "      <td>Chranya</td>\n",
       "      <td>5700</td>\n",
       "      <td>5.0</td>\n",
       "      <td>3.0</td>\n",
       "      <td>650.0</td>\n",
       "    </tr>\n",
       "    <tr>\n",
       "      <th>159</th>\n",
       "      <td>Plot  Area</td>\n",
       "      <td>Ready To Move</td>\n",
       "      <td>Mahalakshmi Layout</td>\n",
       "      <td>4 Bedroom</td>\n",
       "      <td>NaN</td>\n",
       "      <td>3750</td>\n",
       "      <td>4.0</td>\n",
       "      <td>0.0</td>\n",
       "      <td>760.0</td>\n",
       "    </tr>\n",
       "    <tr>\n",
       "      <th>440</th>\n",
       "      <td>Plot  Area</td>\n",
       "      <td>Ready To Move</td>\n",
       "      <td>Whitefield</td>\n",
       "      <td>4 Bedroom</td>\n",
       "      <td>NaN</td>\n",
       "      <td>11890</td>\n",
       "      <td>4.0</td>\n",
       "      <td>3.0</td>\n",
       "      <td>700.0</td>\n",
       "    </tr>\n",
       "    <tr>\n",
       "      <th>539</th>\n",
       "      <td>Built-up  Area</td>\n",
       "      <td>Ready To Move</td>\n",
       "      <td>7th Block Jayanagar</td>\n",
       "      <td>5 Bedroom</td>\n",
       "      <td>NaN</td>\n",
       "      <td>3000</td>\n",
       "      <td>3.0</td>\n",
       "      <td>1.0</td>\n",
       "      <td>528.0</td>\n",
       "    </tr>\n",
       "    <tr>\n",
       "      <th>...</th>\n",
       "      <td>...</td>\n",
       "      <td>...</td>\n",
       "      <td>...</td>\n",
       "      <td>...</td>\n",
       "      <td>...</td>\n",
       "      <td>...</td>\n",
       "      <td>...</td>\n",
       "      <td>...</td>\n",
       "      <td>...</td>\n",
       "    </tr>\n",
       "    <tr>\n",
       "      <th>12896</th>\n",
       "      <td>Super built-up  Area</td>\n",
       "      <td>Ready To Move</td>\n",
       "      <td>Infantry Road</td>\n",
       "      <td>5 BHK</td>\n",
       "      <td>NaN</td>\n",
       "      <td>4000</td>\n",
       "      <td>5.0</td>\n",
       "      <td>NaN</td>\n",
       "      <td>680.0</td>\n",
       "    </tr>\n",
       "    <tr>\n",
       "      <th>13086</th>\n",
       "      <td>Super built-up  Area</td>\n",
       "      <td>Ready To Move</td>\n",
       "      <td>Sindhi Colony</td>\n",
       "      <td>5 BHK</td>\n",
       "      <td>HMeuran</td>\n",
       "      <td>5665.84</td>\n",
       "      <td>7.0</td>\n",
       "      <td>NaN</td>\n",
       "      <td>988.0</td>\n",
       "    </tr>\n",
       "    <tr>\n",
       "      <th>13095</th>\n",
       "      <td>Super built-up  Area</td>\n",
       "      <td>Ready To Move</td>\n",
       "      <td>Sathya Sai Layout</td>\n",
       "      <td>4 BHK</td>\n",
       "      <td>Prowshi</td>\n",
       "      <td>6652</td>\n",
       "      <td>6.0</td>\n",
       "      <td>1.0</td>\n",
       "      <td>660.0</td>\n",
       "    </tr>\n",
       "    <tr>\n",
       "      <th>13104</th>\n",
       "      <td>Built-up  Area</td>\n",
       "      <td>19-Dec</td>\n",
       "      <td>Church Street</td>\n",
       "      <td>4 BHK</td>\n",
       "      <td>CoDast</td>\n",
       "      <td>2920</td>\n",
       "      <td>4.0</td>\n",
       "      <td>3.0</td>\n",
       "      <td>536.0</td>\n",
       "    </tr>\n",
       "    <tr>\n",
       "      <th>13119</th>\n",
       "      <td>Plot  Area</td>\n",
       "      <td>Ready To Move</td>\n",
       "      <td>Sathya Sai Layout</td>\n",
       "      <td>4 Bedroom</td>\n",
       "      <td>Prowshi</td>\n",
       "      <td>6688</td>\n",
       "      <td>6.0</td>\n",
       "      <td>1.0</td>\n",
       "      <td>700.0</td>\n",
       "    </tr>\n",
       "  </tbody>\n",
       "</table>\n",
       "<p>192 rows × 9 columns</p>\n",
       "</div>"
      ],
      "text/plain": [
       "                  area_type   availability             location       size  \\\n",
       "7      Super built-up  Area  Ready To Move         Rajaji Nagar      4 BHK   \n",
       "62               Plot  Area  Ready To Move           Whitefield  4 Bedroom   \n",
       "159              Plot  Area  Ready To Move   Mahalakshmi Layout  4 Bedroom   \n",
       "440              Plot  Area  Ready To Move           Whitefield  4 Bedroom   \n",
       "539          Built-up  Area  Ready To Move  7th Block Jayanagar  5 Bedroom   \n",
       "...                     ...            ...                  ...        ...   \n",
       "12896  Super built-up  Area  Ready To Move        Infantry Road      5 BHK   \n",
       "13086  Super built-up  Area  Ready To Move        Sindhi Colony      5 BHK   \n",
       "13095  Super built-up  Area  Ready To Move    Sathya Sai Layout      4 BHK   \n",
       "13104        Built-up  Area         19-Dec        Church Street      4 BHK   \n",
       "13119            Plot  Area  Ready To Move    Sathya Sai Layout  4 Bedroom   \n",
       "\n",
       "       society total_sqft  bath  balcony  price  \n",
       "7      Brway G       3300   4.0      NaN  600.0  \n",
       "62     Chranya       5700   5.0      3.0  650.0  \n",
       "159        NaN       3750   4.0      0.0  760.0  \n",
       "440        NaN      11890   4.0      3.0  700.0  \n",
       "539        NaN       3000   3.0      1.0  528.0  \n",
       "...        ...        ...   ...      ...    ...  \n",
       "12896      NaN       4000   5.0      NaN  680.0  \n",
       "13086  HMeuran    5665.84   7.0      NaN  988.0  \n",
       "13095  Prowshi       6652   6.0      1.0  660.0  \n",
       "13104  CoDast        2920   4.0      3.0  536.0  \n",
       "13119  Prowshi       6688   6.0      1.0  700.0  \n",
       "\n",
       "[192 rows x 9 columns]"
      ]
     },
     "execution_count": 38,
     "metadata": {},
     "output_type": "execute_result"
    }
   ],
   "source": [
    "#to get house with price between 500 & 1000\n",
    "df.query('price > 500 and price < 1000')"
   ]
  },
  {
   "cell_type": "code",
   "execution_count": 45,
   "id": "6f846ccc-0282-44d2-83a0-ac2ea2e9c5b7",
   "metadata": {},
   "outputs": [
    {
     "data": {
      "text/plain": [
       "array(['2 BHK', '4 Bedroom', '3 BHK', '4 BHK', '6 Bedroom', '3 Bedroom',\n",
       "       '1 BHK', '1 RK', '1 Bedroom', '8 Bedroom', '2 Bedroom',\n",
       "       '7 Bedroom', '5 BHK', '7 BHK', '6 BHK', '5 Bedroom', '11 BHK',\n",
       "       '9 BHK', nan, '9 Bedroom', '27 BHK', '10 Bedroom', '11 Bedroom',\n",
       "       '10 BHK', '19 BHK', '16 BHK', '43 Bedroom', '14 BHK', '8 BHK',\n",
       "       '12 Bedroom', '13 BHK', '18 Bedroom'], dtype=object)"
      ]
     },
     "execution_count": 45,
     "metadata": {},
     "output_type": "execute_result"
    }
   ],
   "source": [
    "# to know which all size houses are there\n",
    "df['size'].unique()"
   ]
  },
  {
   "cell_type": "markdown",
   "id": "bba40326-f311-4247-93f1-7f1c5bae1945",
   "metadata": {
    "tags": []
   },
   "source": [
    "# Drop features that are not required to build our model"
   ]
  },
  {
   "cell_type": "code",
   "execution_count": 8,
   "id": "da8881ed-8436-4d9e-989b-daad90ed96ae",
   "metadata": {},
   "outputs": [
    {
     "data": {
      "text/html": [
       "<div>\n",
       "<style scoped>\n",
       "    .dataframe tbody tr th:only-of-type {\n",
       "        vertical-align: middle;\n",
       "    }\n",
       "\n",
       "    .dataframe tbody tr th {\n",
       "        vertical-align: top;\n",
       "    }\n",
       "\n",
       "    .dataframe thead th {\n",
       "        text-align: right;\n",
       "    }\n",
       "</style>\n",
       "<table border=\"1\" class=\"dataframe\">\n",
       "  <thead>\n",
       "    <tr style=\"text-align: right;\">\n",
       "      <th></th>\n",
       "      <th>area_type</th>\n",
       "      <th>availability</th>\n",
       "      <th>location</th>\n",
       "      <th>size</th>\n",
       "      <th>total_sqft</th>\n",
       "      <th>price</th>\n",
       "    </tr>\n",
       "  </thead>\n",
       "  <tbody>\n",
       "    <tr>\n",
       "      <th>0</th>\n",
       "      <td>Super built-up  Area</td>\n",
       "      <td>19-Dec</td>\n",
       "      <td>Electronic City Phase II</td>\n",
       "      <td>2 BHK</td>\n",
       "      <td>1056</td>\n",
       "      <td>39.07</td>\n",
       "    </tr>\n",
       "    <tr>\n",
       "      <th>1</th>\n",
       "      <td>Plot  Area</td>\n",
       "      <td>Ready To Move</td>\n",
       "      <td>Chikka Tirupathi</td>\n",
       "      <td>4 Bedroom</td>\n",
       "      <td>2600</td>\n",
       "      <td>120.00</td>\n",
       "    </tr>\n",
       "    <tr>\n",
       "      <th>2</th>\n",
       "      <td>Built-up  Area</td>\n",
       "      <td>Ready To Move</td>\n",
       "      <td>Uttarahalli</td>\n",
       "      <td>3 BHK</td>\n",
       "      <td>1440</td>\n",
       "      <td>62.00</td>\n",
       "    </tr>\n",
       "    <tr>\n",
       "      <th>3</th>\n",
       "      <td>Super built-up  Area</td>\n",
       "      <td>Ready To Move</td>\n",
       "      <td>Lingadheeranahalli</td>\n",
       "      <td>3 BHK</td>\n",
       "      <td>1521</td>\n",
       "      <td>95.00</td>\n",
       "    </tr>\n",
       "    <tr>\n",
       "      <th>4</th>\n",
       "      <td>Super built-up  Area</td>\n",
       "      <td>Ready To Move</td>\n",
       "      <td>Kothanur</td>\n",
       "      <td>2 BHK</td>\n",
       "      <td>1200</td>\n",
       "      <td>51.00</td>\n",
       "    </tr>\n",
       "  </tbody>\n",
       "</table>\n",
       "</div>"
      ],
      "text/plain": [
       "              area_type   availability                  location       size  \\\n",
       "0  Super built-up  Area         19-Dec  Electronic City Phase II      2 BHK   \n",
       "1            Plot  Area  Ready To Move          Chikka Tirupathi  4 Bedroom   \n",
       "2        Built-up  Area  Ready To Move               Uttarahalli      3 BHK   \n",
       "3  Super built-up  Area  Ready To Move        Lingadheeranahalli      3 BHK   \n",
       "4  Super built-up  Area  Ready To Move                  Kothanur      2 BHK   \n",
       "\n",
       "  total_sqft   price  \n",
       "0       1056   39.07  \n",
       "1       2600  120.00  \n",
       "2       1440   62.00  \n",
       "3       1521   95.00  \n",
       "4       1200   51.00  "
      ]
     },
     "execution_count": 8,
     "metadata": {},
     "output_type": "execute_result"
    }
   ],
   "source": [
    "df1=df.drop(['society','balcony','bath'],axis='columns')\n",
    "df1.head()"
   ]
  },
  {
   "cell_type": "code",
   "execution_count": 9,
   "id": "964bc0c8-9dbe-490a-830d-8817dc24d1b0",
   "metadata": {},
   "outputs": [
    {
     "data": {
      "text/plain": [
       "array(['Electronic City Phase II', 'Chikka Tirupathi', 'Uttarahalli', ...,\n",
       "       '12th cross srinivas nagar banshankari 3rd stage',\n",
       "       'Havanur extension', 'Abshot Layout'], dtype=object)"
      ]
     },
     "execution_count": 9,
     "metadata": {},
     "output_type": "execute_result"
    }
   ],
   "source": [
    "df.location.unique()"
   ]
  },
  {
   "cell_type": "code",
   "execution_count": 10,
   "id": "246b78f3-ba99-4768-a78e-e43ee7bc1e2c",
   "metadata": {},
   "outputs": [
    {
     "data": {
      "text/html": [
       "<div>\n",
       "<style scoped>\n",
       "    .dataframe tbody tr th:only-of-type {\n",
       "        vertical-align: middle;\n",
       "    }\n",
       "\n",
       "    .dataframe tbody tr th {\n",
       "        vertical-align: top;\n",
       "    }\n",
       "\n",
       "    .dataframe thead th {\n",
       "        text-align: right;\n",
       "    }\n",
       "</style>\n",
       "<table border=\"1\" class=\"dataframe\">\n",
       "  <thead>\n",
       "    <tr style=\"text-align: right;\">\n",
       "      <th></th>\n",
       "      <th>area_type</th>\n",
       "      <th>availability</th>\n",
       "      <th>location</th>\n",
       "      <th>size</th>\n",
       "      <th>total_sqft</th>\n",
       "      <th>price</th>\n",
       "    </tr>\n",
       "  </thead>\n",
       "  <tbody>\n",
       "    <tr>\n",
       "      <th>13315</th>\n",
       "      <td>Built-up  Area</td>\n",
       "      <td>Ready To Move</td>\n",
       "      <td>Whitefield</td>\n",
       "      <td>5 Bedroom</td>\n",
       "      <td>3453</td>\n",
       "      <td>231.0</td>\n",
       "    </tr>\n",
       "    <tr>\n",
       "      <th>13316</th>\n",
       "      <td>Super built-up  Area</td>\n",
       "      <td>Ready To Move</td>\n",
       "      <td>Richards Town</td>\n",
       "      <td>4 BHK</td>\n",
       "      <td>3600</td>\n",
       "      <td>400.0</td>\n",
       "    </tr>\n",
       "    <tr>\n",
       "      <th>13317</th>\n",
       "      <td>Built-up  Area</td>\n",
       "      <td>Ready To Move</td>\n",
       "      <td>Raja Rajeshwari Nagar</td>\n",
       "      <td>2 BHK</td>\n",
       "      <td>1141</td>\n",
       "      <td>60.0</td>\n",
       "    </tr>\n",
       "    <tr>\n",
       "      <th>13318</th>\n",
       "      <td>Super built-up  Area</td>\n",
       "      <td>18-Jun</td>\n",
       "      <td>Padmanabhanagar</td>\n",
       "      <td>4 BHK</td>\n",
       "      <td>4689</td>\n",
       "      <td>488.0</td>\n",
       "    </tr>\n",
       "    <tr>\n",
       "      <th>13319</th>\n",
       "      <td>Super built-up  Area</td>\n",
       "      <td>Ready To Move</td>\n",
       "      <td>Doddathoguru</td>\n",
       "      <td>1 BHK</td>\n",
       "      <td>550</td>\n",
       "      <td>17.0</td>\n",
       "    </tr>\n",
       "  </tbody>\n",
       "</table>\n",
       "</div>"
      ],
      "text/plain": [
       "                  area_type   availability               location       size  \\\n",
       "13315        Built-up  Area  Ready To Move             Whitefield  5 Bedroom   \n",
       "13316  Super built-up  Area  Ready To Move          Richards Town      4 BHK   \n",
       "13317        Built-up  Area  Ready To Move  Raja Rajeshwari Nagar      2 BHK   \n",
       "13318  Super built-up  Area         18-Jun        Padmanabhanagar      4 BHK   \n",
       "13319  Super built-up  Area  Ready To Move           Doddathoguru      1 BHK   \n",
       "\n",
       "      total_sqft  price  \n",
       "13315       3453  231.0  \n",
       "13316       3600  400.0  \n",
       "13317       1141   60.0  \n",
       "13318       4689  488.0  \n",
       "13319        550   17.0  "
      ]
     },
     "execution_count": 10,
     "metadata": {},
     "output_type": "execute_result"
    }
   ],
   "source": [
    "df1.tail()"
   ]
  },
  {
   "cell_type": "markdown",
   "id": "6c138b6f-979d-455e-8b62-0e87e52fa642",
   "metadata": {
    "jp-MarkdownHeadingCollapsed": true,
    "tags": []
   },
   "source": [
    "# Find NA values"
   ]
  },
  {
   "cell_type": "code",
   "execution_count": 11,
   "id": "e111e4d5-f12c-4fa9-b645-cd1e6315ddab",
   "metadata": {},
   "outputs": [
    {
     "data": {
      "text/plain": [
       "area_type        0\n",
       "availability     0\n",
       "location         1\n",
       "size            16\n",
       "total_sqft       0\n",
       "price            0\n",
       "dtype: int64"
      ]
     },
     "execution_count": 11,
     "metadata": {},
     "output_type": "execute_result"
    }
   ],
   "source": [
    "#df2['area_type'].unique() = 4\n",
    "#df2['availability'].nunique() = 80\n",
    "#df2['location'].nunique() = 1304\n",
    "#df2['size'].nunique() = 31\n",
    "#df2['total_sqft'].nunique() = 2110\n",
    "#df2['price'].nunique() = 1985\n",
    "df1.isna().sum()"
   ]
  },
  {
   "cell_type": "markdown",
   "id": "184fc12d-e60b-4af9-b20e-aa6ddf165529",
   "metadata": {
    "jp-MarkdownHeadingCollapsed": true,
    "tags": []
   },
   "source": [
    "# To fill NA values"
   ]
  },
  {
   "cell_type": "code",
   "execution_count": 12,
   "id": "71944da0-82b4-4cd3-b9b6-ffd7f3bbb051",
   "metadata": {},
   "outputs": [
    {
     "data": {
      "text/html": [
       "<div>\n",
       "<style scoped>\n",
       "    .dataframe tbody tr th:only-of-type {\n",
       "        vertical-align: middle;\n",
       "    }\n",
       "\n",
       "    .dataframe tbody tr th {\n",
       "        vertical-align: top;\n",
       "    }\n",
       "\n",
       "    .dataframe thead th {\n",
       "        text-align: right;\n",
       "    }\n",
       "</style>\n",
       "<table border=\"1\" class=\"dataframe\">\n",
       "  <thead>\n",
       "    <tr style=\"text-align: right;\">\n",
       "      <th></th>\n",
       "      <th>area_type</th>\n",
       "      <th>availability</th>\n",
       "      <th>location</th>\n",
       "      <th>size</th>\n",
       "      <th>total_sqft</th>\n",
       "      <th>price</th>\n",
       "    </tr>\n",
       "  </thead>\n",
       "  <tbody>\n",
       "    <tr>\n",
       "      <th>0</th>\n",
       "      <td>Super built-up  Area</td>\n",
       "      <td>19-Dec</td>\n",
       "      <td>Electronic City Phase II</td>\n",
       "      <td>2 BHK</td>\n",
       "      <td>1056</td>\n",
       "      <td>39.07</td>\n",
       "    </tr>\n",
       "    <tr>\n",
       "      <th>1</th>\n",
       "      <td>Plot  Area</td>\n",
       "      <td>Ready To Move</td>\n",
       "      <td>Chikka Tirupathi</td>\n",
       "      <td>4 Bedroom</td>\n",
       "      <td>2600</td>\n",
       "      <td>120.00</td>\n",
       "    </tr>\n",
       "    <tr>\n",
       "      <th>2</th>\n",
       "      <td>Built-up  Area</td>\n",
       "      <td>Ready To Move</td>\n",
       "      <td>Uttarahalli</td>\n",
       "      <td>3 BHK</td>\n",
       "      <td>1440</td>\n",
       "      <td>62.00</td>\n",
       "    </tr>\n",
       "    <tr>\n",
       "      <th>3</th>\n",
       "      <td>Super built-up  Area</td>\n",
       "      <td>Ready To Move</td>\n",
       "      <td>Lingadheeranahalli</td>\n",
       "      <td>3 BHK</td>\n",
       "      <td>1521</td>\n",
       "      <td>95.00</td>\n",
       "    </tr>\n",
       "    <tr>\n",
       "      <th>4</th>\n",
       "      <td>Super built-up  Area</td>\n",
       "      <td>Ready To Move</td>\n",
       "      <td>Kothanur</td>\n",
       "      <td>2 BHK</td>\n",
       "      <td>1200</td>\n",
       "      <td>51.00</td>\n",
       "    </tr>\n",
       "    <tr>\n",
       "      <th>...</th>\n",
       "      <td>...</td>\n",
       "      <td>...</td>\n",
       "      <td>...</td>\n",
       "      <td>...</td>\n",
       "      <td>...</td>\n",
       "      <td>...</td>\n",
       "    </tr>\n",
       "    <tr>\n",
       "      <th>13315</th>\n",
       "      <td>Built-up  Area</td>\n",
       "      <td>Ready To Move</td>\n",
       "      <td>Whitefield</td>\n",
       "      <td>5 Bedroom</td>\n",
       "      <td>3453</td>\n",
       "      <td>231.00</td>\n",
       "    </tr>\n",
       "    <tr>\n",
       "      <th>13316</th>\n",
       "      <td>Super built-up  Area</td>\n",
       "      <td>Ready To Move</td>\n",
       "      <td>Richards Town</td>\n",
       "      <td>4 BHK</td>\n",
       "      <td>3600</td>\n",
       "      <td>400.00</td>\n",
       "    </tr>\n",
       "    <tr>\n",
       "      <th>13317</th>\n",
       "      <td>Built-up  Area</td>\n",
       "      <td>Ready To Move</td>\n",
       "      <td>Raja Rajeshwari Nagar</td>\n",
       "      <td>2 BHK</td>\n",
       "      <td>1141</td>\n",
       "      <td>60.00</td>\n",
       "    </tr>\n",
       "    <tr>\n",
       "      <th>13318</th>\n",
       "      <td>Super built-up  Area</td>\n",
       "      <td>18-Jun</td>\n",
       "      <td>Padmanabhanagar</td>\n",
       "      <td>4 BHK</td>\n",
       "      <td>4689</td>\n",
       "      <td>488.00</td>\n",
       "    </tr>\n",
       "    <tr>\n",
       "      <th>13319</th>\n",
       "      <td>Super built-up  Area</td>\n",
       "      <td>Ready To Move</td>\n",
       "      <td>Doddathoguru</td>\n",
       "      <td>1 BHK</td>\n",
       "      <td>550</td>\n",
       "      <td>17.00</td>\n",
       "    </tr>\n",
       "  </tbody>\n",
       "</table>\n",
       "<p>13320 rows × 6 columns</p>\n",
       "</div>"
      ],
      "text/plain": [
       "                  area_type   availability                  location  \\\n",
       "0      Super built-up  Area         19-Dec  Electronic City Phase II   \n",
       "1                Plot  Area  Ready To Move          Chikka Tirupathi   \n",
       "2            Built-up  Area  Ready To Move               Uttarahalli   \n",
       "3      Super built-up  Area  Ready To Move        Lingadheeranahalli   \n",
       "4      Super built-up  Area  Ready To Move                  Kothanur   \n",
       "...                     ...            ...                       ...   \n",
       "13315        Built-up  Area  Ready To Move                Whitefield   \n",
       "13316  Super built-up  Area  Ready To Move             Richards Town   \n",
       "13317        Built-up  Area  Ready To Move     Raja Rajeshwari Nagar   \n",
       "13318  Super built-up  Area         18-Jun           Padmanabhanagar   \n",
       "13319  Super built-up  Area  Ready To Move              Doddathoguru   \n",
       "\n",
       "            size total_sqft   price  \n",
       "0          2 BHK       1056   39.07  \n",
       "1      4 Bedroom       2600  120.00  \n",
       "2          3 BHK       1440   62.00  \n",
       "3          3 BHK       1521   95.00  \n",
       "4          2 BHK       1200   51.00  \n",
       "...          ...        ...     ...  \n",
       "13315  5 Bedroom       3453  231.00  \n",
       "13316      4 BHK       3600  400.00  \n",
       "13317      2 BHK       1141   60.00  \n",
       "13318      4 BHK       4689  488.00  \n",
       "13319      1 BHK        550   17.00  \n",
       "\n",
       "[13320 rows x 6 columns]"
      ]
     },
     "execution_count": 12,
     "metadata": {},
     "output_type": "execute_result"
    }
   ],
   "source": [
    "df1.fillna(method='ffill',inplace=True)\n",
    "df1"
   ]
  },
  {
   "cell_type": "code",
   "execution_count": 13,
   "id": "9db3889a-de41-4c80-b651-bdcb2ab464dc",
   "metadata": {},
   "outputs": [
    {
     "data": {
      "text/plain": [
       "area_type       0\n",
       "availability    0\n",
       "location        0\n",
       "size            0\n",
       "total_sqft      0\n",
       "price           0\n",
       "dtype: int64"
      ]
     },
     "execution_count": 13,
     "metadata": {},
     "output_type": "execute_result"
    }
   ],
   "source": [
    "df1.isna().sum()"
   ]
  },
  {
   "cell_type": "markdown",
   "id": "9f9e2c80-aa3b-486e-b60a-2849a66eb0df",
   "metadata": {},
   "source": [
    "## Label encoding"
   ]
  },
  {
   "cell_type": "code",
   "execution_count": 14,
   "id": "40d9256c-1708-460b-8bff-f5454a5acfc9",
   "metadata": {},
   "outputs": [],
   "source": [
    "from sklearn.preprocessing import LabelEncoder\n",
    "lenc=LabelEncoder()"
   ]
  },
  {
   "cell_type": "code",
   "execution_count": 15,
   "id": "f70e2c8f-946b-44db-a3ce-eb539746887d",
   "metadata": {},
   "outputs": [
    {
     "data": {
      "text/html": [
       "<div>\n",
       "<style scoped>\n",
       "    .dataframe tbody tr th:only-of-type {\n",
       "        vertical-align: middle;\n",
       "    }\n",
       "\n",
       "    .dataframe tbody tr th {\n",
       "        vertical-align: top;\n",
       "    }\n",
       "\n",
       "    .dataframe thead th {\n",
       "        text-align: right;\n",
       "    }\n",
       "</style>\n",
       "<table border=\"1\" class=\"dataframe\">\n",
       "  <thead>\n",
       "    <tr style=\"text-align: right;\">\n",
       "      <th></th>\n",
       "      <th>area_type</th>\n",
       "      <th>availability</th>\n",
       "      <th>location</th>\n",
       "      <th>size</th>\n",
       "      <th>total_sqft</th>\n",
       "      <th>price</th>\n",
       "    </tr>\n",
       "  </thead>\n",
       "  <tbody>\n",
       "    <tr>\n",
       "      <th>0</th>\n",
       "      <td>3</td>\n",
       "      <td>40</td>\n",
       "      <td>419</td>\n",
       "      <td>13</td>\n",
       "      <td>70</td>\n",
       "      <td>39.07</td>\n",
       "    </tr>\n",
       "    <tr>\n",
       "      <th>1</th>\n",
       "      <td>2</td>\n",
       "      <td>80</td>\n",
       "      <td>317</td>\n",
       "      <td>19</td>\n",
       "      <td>1288</td>\n",
       "      <td>120.00</td>\n",
       "    </tr>\n",
       "    <tr>\n",
       "      <th>2</th>\n",
       "      <td>0</td>\n",
       "      <td>80</td>\n",
       "      <td>1179</td>\n",
       "      <td>16</td>\n",
       "      <td>514</td>\n",
       "      <td>62.00</td>\n",
       "    </tr>\n",
       "    <tr>\n",
       "      <th>3</th>\n",
       "      <td>3</td>\n",
       "      <td>80</td>\n",
       "      <td>757</td>\n",
       "      <td>16</td>\n",
       "      <td>602</td>\n",
       "      <td>95.00</td>\n",
       "    </tr>\n",
       "    <tr>\n",
       "      <th>4</th>\n",
       "      <td>3</td>\n",
       "      <td>80</td>\n",
       "      <td>716</td>\n",
       "      <td>13</td>\n",
       "      <td>239</td>\n",
       "      <td>51.00</td>\n",
       "    </tr>\n",
       "    <tr>\n",
       "      <th>...</th>\n",
       "      <td>...</td>\n",
       "      <td>...</td>\n",
       "      <td>...</td>\n",
       "      <td>...</td>\n",
       "      <td>...</td>\n",
       "      <td>...</td>\n",
       "    </tr>\n",
       "    <tr>\n",
       "      <th>13315</th>\n",
       "      <td>0</td>\n",
       "      <td>80</td>\n",
       "      <td>1252</td>\n",
       "      <td>22</td>\n",
       "      <td>1499</td>\n",
       "      <td>231.00</td>\n",
       "    </tr>\n",
       "    <tr>\n",
       "      <th>13316</th>\n",
       "      <td>3</td>\n",
       "      <td>80</td>\n",
       "      <td>1004</td>\n",
       "      <td>18</td>\n",
       "      <td>1535</td>\n",
       "      <td>400.00</td>\n",
       "    </tr>\n",
       "    <tr>\n",
       "      <th>13317</th>\n",
       "      <td>0</td>\n",
       "      <td>80</td>\n",
       "      <td>972</td>\n",
       "      <td>13</td>\n",
       "      <td>172</td>\n",
       "      <td>60.00</td>\n",
       "    </tr>\n",
       "    <tr>\n",
       "      <th>13318</th>\n",
       "      <td>3</td>\n",
       "      <td>32</td>\n",
       "      <td>907</td>\n",
       "      <td>18</td>\n",
       "      <td>1680</td>\n",
       "      <td>488.00</td>\n",
       "    </tr>\n",
       "    <tr>\n",
       "      <th>13319</th>\n",
       "      <td>3</td>\n",
       "      <td>80</td>\n",
       "      <td>396</td>\n",
       "      <td>0</td>\n",
       "      <td>1747</td>\n",
       "      <td>17.00</td>\n",
       "    </tr>\n",
       "  </tbody>\n",
       "</table>\n",
       "<p>13320 rows × 6 columns</p>\n",
       "</div>"
      ],
      "text/plain": [
       "      area_type availability location size total_sqft   price\n",
       "0             3           40      419   13         70   39.07\n",
       "1             2           80      317   19       1288  120.00\n",
       "2             0           80     1179   16        514   62.00\n",
       "3             3           80      757   16        602   95.00\n",
       "4             3           80      716   13        239   51.00\n",
       "...         ...          ...      ...  ...        ...     ...\n",
       "13315         0           80     1252   22       1499  231.00\n",
       "13316         3           80     1004   18       1535  400.00\n",
       "13317         0           80      972   13        172   60.00\n",
       "13318         3           32      907   18       1680  488.00\n",
       "13319         3           80      396    0       1747   17.00\n",
       "\n",
       "[13320 rows x 6 columns]"
      ]
     },
     "execution_count": 15,
     "metadata": {},
     "output_type": "execute_result"
    }
   ],
   "source": [
    "a = ['area_type', 'availability', 'location', 'size','total_sqft']\n",
    "df[a] = df[a].apply(lenc.fit_transform)\n",
    "df_le = df[a]\n",
    "df1.update(df_le)\n",
    "df1"
   ]
  },
  {
   "cell_type": "code",
   "execution_count": 16,
   "id": "acf9f8d4-b779-44dc-8678-f3cfc20915ef",
   "metadata": {},
   "outputs": [
    {
     "data": {
      "text/plain": [
       "area_type       0\n",
       "availability    0\n",
       "location        0\n",
       "size            0\n",
       "total_sqft      0\n",
       "price           0\n",
       "dtype: int64"
      ]
     },
     "execution_count": 16,
     "metadata": {},
     "output_type": "execute_result"
    }
   ],
   "source": [
    "df1.isna().sum()"
   ]
  },
  {
   "cell_type": "code",
   "execution_count": 17,
   "id": "a012bfc1-dccc-4ac5-b995-8e6b757fa617",
   "metadata": {},
   "outputs": [],
   "source": [
    "#since NA values are small better to drop them\n",
    "# df2=df1.fillna()\n",
    "#mean_value=df1['location'].mean()\n",
    "# df2['location'].fillna(df2['location'].mean(), inplace=True)\n",
    "# df2.isnull().sum()"
   ]
  },
  {
   "cell_type": "markdown",
   "id": "4d5a2b20-8d38-4865-ad9f-507124fb9ba0",
   "metadata": {
    "jp-MarkdownHeadingCollapsed": true,
    "tags": []
   },
   "source": [
    "# Plotting boxplot"
   ]
  },
  {
   "cell_type": "code",
   "execution_count": 18,
   "id": "a246df2f-f126-49ef-b254-10c3dce0a046",
   "metadata": {},
   "outputs": [
    {
     "data": {
      "image/png": "[encoded data removed]",
      "text/plain": [
       "<Figure size 2000x1000 with 1 Axes>"
      ]
     },
     "metadata": {},
     "output_type": "display_data"
    },
    {
     "data": {
      "image/png": "[encoded data removed]",
      "text/plain": [
       "<Figure size 2000x1000 with 1 Axes>"
      ]
     },
     "metadata": {},
     "output_type": "display_data"
    },
    {
     "data": {
      "image/png": "[encoded data removed]",
      "text/plain": [
       "<Figure size 2000x1000 with 1 Axes>"
      ]
     },
     "metadata": {},
     "output_type": "display_data"
    },
    {
     "data": {
      "image/png": "[encoded data removed]",
      "text/plain": [
       "<Figure size 2000x1000 with 1 Axes>"
      ]
     },
     "metadata": {},
     "output_type": "display_data"
    },
    {
     "data": {
      "image/png": "[encoded data removed]",
      "text/plain": [
       "<Figure size 2000x1000 with 1 Axes>"
      ]
     },
     "metadata": {},
     "output_type": "display_data"
    },
    {
     "data": {
      "image/png": "[encoded data removed]",
      "text/plain": [
       "<Figure size 2000x1000 with 1 Axes>"
      ]
     },
     "metadata": {},
     "output_type": "display_data"
    }
   ],
   "source": [
    "for i in df1.columns:\n",
    "    df.boxplot(column=i)\n",
    "    plt.show()"
   ]
  },
  {
   "cell_type": "markdown",
   "id": "80af2d93-4b5a-41e5-b9f0-7ecfffe7922d",
   "metadata": {
    "jp-MarkdownHeadingCollapsed": true,
    "tags": []
   },
   "source": [
    "# Outlier Detection"
   ]
  },
  {
   "cell_type": "code",
   "execution_count": 19,
   "id": "baf56fa5-f8f0-493c-82dc-e9f87492728c",
   "metadata": {},
   "outputs": [
    {
     "data": {
      "text/plain": [
       "{'area_type': [0.5, 4.5],\n",
       " 'availability': [80.0, 80.0],\n",
       " 'location': [-506.0, 1902.0],\n",
       " 'size': [8.5, 20.5],\n",
       " 'total_sqft': [-1214.5, 2661.5]}"
      ]
     },
     "execution_count": 19,
     "metadata": {},
     "output_type": "execute_result"
    }
   ],
   "source": [
    "def IQR_values(df,column_name):\n",
    "    q1=df[column_name].quantile(0.25)\n",
    "    q2=df[column_name].quantile(0.50)\n",
    "    q3=df[column_name].quantile(0.75)\n",
    "    IQR=q3-q1\n",
    "    lower_limit=q1-1.5*IQR\n",
    "    upper_limit=q3+1.5*IQR\n",
    "    return lower_limit,upper_limit\n",
    "\n",
    "features=['area_type', 'availability', 'location', 'size','total_sqft']\n",
    "outlier={}\n",
    "for column in features:\n",
    "    lower_limit,upper_limit=IQR_values(df,column)\n",
    "    outlier[column]=[lower_limit,upper_limit]\n",
    "outlier "
   ]
  },
  {
   "cell_type": "code",
   "execution_count": 20,
   "id": "e30d9abb-c79c-45b7-9fbf-6e1c2a24478c",
   "metadata": {},
   "outputs": [
    {
     "data": {
      "text/plain": [
       "[Int64Index([    2,    13,    20,    27,    34,    39,    40,    49,    52,\n",
       "                56,\n",
       "             ...\n",
       "             13254, 13260, 13262, 13263, 13278, 13280, 13307, 13308, 13315,\n",
       "             13317],\n",
       "            dtype='int64', length=2418),\n",
       " Int64Index([    0,     6,    10,    21,    24,    25,    27,    28,    30,\n",
       "                35,\n",
       "             ...\n",
       "             13265, 13266, 13268, 13282, 13288, 13291, 13292, 13295, 13299,\n",
       "             13318],\n",
       "            dtype='int64', length=2739),\n",
       " Int64Index([], dtype='int64'),\n",
       " Int64Index([    9,    20,    24,    42,    43,    45,    58,    64,    68,\n",
       "                79,\n",
       "             ...\n",
       "             13277, 13279, 13281, 13291, 13300, 13303, 13305, 13311, 13315,\n",
       "             13319],\n",
       "            dtype='int64', length=1512),\n",
       " Int64Index([], dtype='int64')]"
      ]
     },
     "execution_count": 20,
     "metadata": {},
     "output_type": "execute_result"
    }
   ],
   "source": [
    "# To find out outier index\n",
    "outindx=[]\n",
    "for i in features:\n",
    "    df_outl=(df1[i]>outlier[i][1])|(df1[i]<outlier[i][0])\n",
    "    x=df1.loc[df_outl].index\n",
    "    outindx.append(x)\n",
    "outindx"
   ]
  },
  {
   "cell_type": "markdown",
   "id": "42016f0c-63da-4381-b2ec-3f89105d0854",
   "metadata": {
    "jp-MarkdownHeadingCollapsed": true,
    "tags": []
   },
   "source": [
    "# Removal of outliers"
   ]
  },
  {
   "cell_type": "code",
   "execution_count": 21,
   "id": "79fbed2c-22a2-4178-9f8e-669ee3669b38",
   "metadata": {},
   "outputs": [],
   "source": [
    "# for i in range(len(features)):\n",
    "#     df1.loc[outindx[i],features[i]]=df1[features[i]].mode()\n",
    "# df1"
   ]
  },
  {
   "cell_type": "code",
   "execution_count": 22,
   "id": "996030e6-8edd-460b-8dd8-1bd6ce319308",
   "metadata": {},
   "outputs": [
    {
     "data": {
      "text/plain": [
       "area_type       0\n",
       "availability    0\n",
       "location        0\n",
       "size            0\n",
       "total_sqft      0\n",
       "price           0\n",
       "dtype: int64"
      ]
     },
     "execution_count": 22,
     "metadata": {},
     "output_type": "execute_result"
    }
   ],
   "source": [
    "df1.isna().sum()"
   ]
  },
  {
   "cell_type": "markdown",
   "id": "6d5efdf7-a2fb-4140-89e7-ddbb4d247d92",
   "metadata": {},
   "source": [
    "#                                    MODELLING"
   ]
  },
  {
   "cell_type": "markdown",
   "id": "9020f4a5-10bc-40ec-8500-52347562deba",
   "metadata": {},
   "source": [
    "# Train_test_split"
   ]
  },
  {
   "cell_type": "code",
   "execution_count": 23,
   "id": "14512b00-6c84-4faa-8231-d77b82ad8e3f",
   "metadata": {},
   "outputs": [
    {
     "data": {
      "text/html": [
       "<div>\n",
       "<style scoped>\n",
       "    .dataframe tbody tr th:only-of-type {\n",
       "        vertical-align: middle;\n",
       "    }\n",
       "\n",
       "    .dataframe tbody tr th {\n",
       "        vertical-align: top;\n",
       "    }\n",
       "\n",
       "    .dataframe thead th {\n",
       "        text-align: right;\n",
       "    }\n",
       "</style>\n",
       "<table border=\"1\" class=\"dataframe\">\n",
       "  <thead>\n",
       "    <tr style=\"text-align: right;\">\n",
       "      <th></th>\n",
       "      <th>area_type</th>\n",
       "      <th>availability</th>\n",
       "      <th>location</th>\n",
       "      <th>size</th>\n",
       "      <th>total_sqft</th>\n",
       "      <th>price</th>\n",
       "    </tr>\n",
       "  </thead>\n",
       "  <tbody>\n",
       "    <tr>\n",
       "      <th>0</th>\n",
       "      <td>3</td>\n",
       "      <td>40</td>\n",
       "      <td>419</td>\n",
       "      <td>13</td>\n",
       "      <td>70</td>\n",
       "      <td>39.07</td>\n",
       "    </tr>\n",
       "    <tr>\n",
       "      <th>1</th>\n",
       "      <td>2</td>\n",
       "      <td>80</td>\n",
       "      <td>317</td>\n",
       "      <td>19</td>\n",
       "      <td>1288</td>\n",
       "      <td>120.00</td>\n",
       "    </tr>\n",
       "    <tr>\n",
       "      <th>2</th>\n",
       "      <td>0</td>\n",
       "      <td>80</td>\n",
       "      <td>1179</td>\n",
       "      <td>16</td>\n",
       "      <td>514</td>\n",
       "      <td>62.00</td>\n",
       "    </tr>\n",
       "    <tr>\n",
       "      <th>3</th>\n",
       "      <td>3</td>\n",
       "      <td>80</td>\n",
       "      <td>757</td>\n",
       "      <td>16</td>\n",
       "      <td>602</td>\n",
       "      <td>95.00</td>\n",
       "    </tr>\n",
       "    <tr>\n",
       "      <th>4</th>\n",
       "      <td>3</td>\n",
       "      <td>80</td>\n",
       "      <td>716</td>\n",
       "      <td>13</td>\n",
       "      <td>239</td>\n",
       "      <td>51.00</td>\n",
       "    </tr>\n",
       "    <tr>\n",
       "      <th>...</th>\n",
       "      <td>...</td>\n",
       "      <td>...</td>\n",
       "      <td>...</td>\n",
       "      <td>...</td>\n",
       "      <td>...</td>\n",
       "      <td>...</td>\n",
       "    </tr>\n",
       "    <tr>\n",
       "      <th>13315</th>\n",
       "      <td>0</td>\n",
       "      <td>80</td>\n",
       "      <td>1252</td>\n",
       "      <td>22</td>\n",
       "      <td>1499</td>\n",
       "      <td>231.00</td>\n",
       "    </tr>\n",
       "    <tr>\n",
       "      <th>13316</th>\n",
       "      <td>3</td>\n",
       "      <td>80</td>\n",
       "      <td>1004</td>\n",
       "      <td>18</td>\n",
       "      <td>1535</td>\n",
       "      <td>400.00</td>\n",
       "    </tr>\n",
       "    <tr>\n",
       "      <th>13317</th>\n",
       "      <td>0</td>\n",
       "      <td>80</td>\n",
       "      <td>972</td>\n",
       "      <td>13</td>\n",
       "      <td>172</td>\n",
       "      <td>60.00</td>\n",
       "    </tr>\n",
       "    <tr>\n",
       "      <th>13318</th>\n",
       "      <td>3</td>\n",
       "      <td>32</td>\n",
       "      <td>907</td>\n",
       "      <td>18</td>\n",
       "      <td>1680</td>\n",
       "      <td>488.00</td>\n",
       "    </tr>\n",
       "    <tr>\n",
       "      <th>13319</th>\n",
       "      <td>3</td>\n",
       "      <td>80</td>\n",
       "      <td>396</td>\n",
       "      <td>0</td>\n",
       "      <td>1747</td>\n",
       "      <td>17.00</td>\n",
       "    </tr>\n",
       "  </tbody>\n",
       "</table>\n",
       "<p>13320 rows × 6 columns</p>\n",
       "</div>"
      ],
      "text/plain": [
       "      area_type availability location size total_sqft   price\n",
       "0             3           40      419   13         70   39.07\n",
       "1             2           80      317   19       1288  120.00\n",
       "2             0           80     1179   16        514   62.00\n",
       "3             3           80      757   16        602   95.00\n",
       "4             3           80      716   13        239   51.00\n",
       "...         ...          ...      ...  ...        ...     ...\n",
       "13315         0           80     1252   22       1499  231.00\n",
       "13316         3           80     1004   18       1535  400.00\n",
       "13317         0           80      972   13        172   60.00\n",
       "13318         3           32      907   18       1680  488.00\n",
       "13319         3           80      396    0       1747   17.00\n",
       "\n",
       "[13320 rows x 6 columns]"
      ]
     },
     "execution_count": 23,
     "metadata": {},
     "output_type": "execute_result"
    }
   ],
   "source": [
    "df1"
   ]
  },
  {
   "cell_type": "code",
   "execution_count": 24,
   "id": "7dbbdd08-22d5-47a8-948f-3b83cf16346e",
   "metadata": {},
   "outputs": [],
   "source": [
    "x = df1.drop('price',axis=1)\n",
    "y = df['price']"
   ]
  },
  {
   "cell_type": "code",
   "execution_count": 25,
   "id": "97d52e14-f36f-4273-bb4c-891839e7f958",
   "metadata": {},
   "outputs": [],
   "source": [
    "from sklearn.model_selection import train_test_split\n",
    "x_train,x_test,y_train,y_test = train_test_split(x,y,train_size=0.8,random_state=42)"
   ]
  },
  {
   "cell_type": "code",
   "execution_count": 26,
   "id": "adba7ce4-41a5-467e-9d51-090d2b68e21e",
   "metadata": {},
   "outputs": [
    {
     "data": {
      "text/plain": [
       "(2664, 5)"
      ]
     },
     "execution_count": 26,
     "metadata": {},
     "output_type": "execute_result"
    }
   ],
   "source": [
    "x_test.shape"
   ]
  },
  {
   "cell_type": "code",
   "execution_count": 27,
   "id": "1014810e-eb8c-459a-a3b4-5df4eb4c5138",
   "metadata": {},
   "outputs": [],
   "source": [
    "mean_squared_errors={}"
   ]
  },
  {
   "cell_type": "markdown",
   "id": "221264e6-9c75-411a-b6df-5dd915b139db",
   "metadata": {},
   "source": [
    "# 1. Linear Modelling"
   ]
  },
  {
   "cell_type": "code",
   "execution_count": 28,
   "id": "31d52317-e313-48bc-9609-eb83f94176b5",
   "metadata": {},
   "outputs": [
    {
     "data": {
      "text/plain": [
       "array([ 53.15790673, 129.5642862 ,  47.83108852, ..., 128.16980174,\n",
       "        64.44611401, 102.39048804])"
      ]
     },
     "execution_count": 28,
     "metadata": {},
     "output_type": "execute_result"
    }
   ],
   "source": [
    "from sklearn.linear_model import LinearRegression\n",
    "linr = LinearRegression()\n",
    "linr.fit(x_train,y_train)\n",
    "linr_pred=linr.predict(x_test)\n",
    "linr_pred"
   ]
  },
  {
   "cell_type": "code",
   "execution_count": 29,
   "id": "1e6bb69a-570e-4a72-b4d7-e985efd41e5e",
   "metadata": {},
   "outputs": [
    {
     "data": {
      "text/plain": [
       "area_type         3\n",
       "availability     40\n",
       "location        419\n",
       "size             13\n",
       "total_sqft       70\n",
       "Name: 0, dtype: object"
      ]
     },
     "execution_count": 29,
     "metadata": {},
     "output_type": "execute_result"
    }
   ],
   "source": [
    "x.iloc[0]"
   ]
  },
  {
   "cell_type": "code",
   "execution_count": 30,
   "id": "c410c32d-527e-4a48-a893-232a753431e4",
   "metadata": {},
   "outputs": [
    {
     "data": {
      "text/plain": [
       "17476.33878457823"
      ]
     },
     "execution_count": 30,
     "metadata": {},
     "output_type": "execute_result"
    }
   ],
   "source": [
    "from sklearn.metrics import mean_squared_error\n",
    "a=mean_squared_error(y_test,linr_pred)\n",
    "a"
   ]
  },
  {
   "cell_type": "code",
   "execution_count": 31,
   "id": "a8f0c17b-ca79-41ba-ae84-efebc49a51fc",
   "metadata": {},
   "outputs": [],
   "source": [
    "mean_squared_errors.update({\"linear_model\":a})"
   ]
  },
  {
   "cell_type": "markdown",
   "id": "6accbf03-c60a-4f9e-ba4a-67f0e325785b",
   "metadata": {},
   "source": [
    "# 2. SVM"
   ]
  },
  {
   "cell_type": "code",
   "execution_count": 32,
   "id": "e23df6dc-50bf-4324-a0c3-0abc52d09794",
   "metadata": {},
   "outputs": [],
   "source": [
    "# from sklearn.svm import SVR\n",
    "# svr=SVR(kernel='linear')\n",
    "# svr.fit(x_train,y_train)\n",
    "# svr_pred=svr.predict(x_test)\n",
    "# svr_pred"
   ]
  },
  {
   "cell_type": "code",
   "execution_count": 33,
   "id": "45864dd8-bf3d-49ce-8165-0b2a24f5a201",
   "metadata": {},
   "outputs": [],
   "source": [
    "#np.count_nonzero(svr_pred)"
   ]
  },
  {
   "cell_type": "code",
   "execution_count": 34,
   "id": "afa21499-b2f0-4e06-ba25-bda2571d93c1",
   "metadata": {},
   "outputs": [],
   "source": [
    "# b=mean_squared_error(y_test,svr_pred)\n",
    "# b"
   ]
  },
  {
   "cell_type": "code",
   "execution_count": 35,
   "id": "bf65aa78-db34-4034-9136-494dae8b3923",
   "metadata": {},
   "outputs": [],
   "source": [
    "#mean_squared_errors.update({\"SVR_model\":b})"
   ]
  },
  {
   "cell_type": "markdown",
   "id": "8c769e9a-a6f5-475b-8121-d925c603ffb3",
   "metadata": {},
   "source": [
    "# 3. Decision Tree Regressor"
   ]
  },
  {
   "cell_type": "code",
   "execution_count": 36,
   "id": "682b0cff-3e41-4399-9a9d-4b120049bd2d",
   "metadata": {},
   "outputs": [
    {
     "data": {
      "text/plain": [
       "array([162.  ,  57.39,  46.  , ...,  80.  ,  56.81, 140.  ])"
      ]
     },
     "execution_count": 36,
     "metadata": {},
     "output_type": "execute_result"
    }
   ],
   "source": [
    "from sklearn.tree import DecisionTreeRegressor\n",
    "dtr=DecisionTreeRegressor(criterion='squared_error')\n",
    "dtr.fit(x_train,y_train)\n",
    "dtr_pred = dtr.predict(x_test)\n",
    "dtr_pred"
   ]
  },
  {
   "cell_type": "code",
   "execution_count": 37,
   "id": "e541eda1-56b4-43c5-8fd3-d74e44dd88c7",
   "metadata": {},
   "outputs": [
    {
     "data": {
      "text/plain": [
       "21348.676938531273"
      ]
     },
     "execution_count": 37,
     "metadata": {},
     "output_type": "execute_result"
    }
   ],
   "source": [
    "c=mean_squared_error(y_test,dtr_pred)\n",
    "c"
   ]
  },
  {
   "cell_type": "code",
   "execution_count": 38,
   "id": "00f9c2f6-3b9b-4ec6-855d-4bbfabfa0194",
   "metadata": {},
   "outputs": [],
   "source": [
    "mean_squared_errors.update({\"DTR_model\":c})"
   ]
  },
  {
   "cell_type": "markdown",
   "id": "3378272e-aecf-4c6c-a96d-f014df0cab85",
   "metadata": {},
   "source": [
    "# 4. Random Forest"
   ]
  },
  {
   "cell_type": "code",
   "execution_count": 39,
   "id": "947c3f52-7bc5-4689-8912-ca25c3ba70ef",
   "metadata": {},
   "outputs": [
    {
     "data": {
      "text/plain": [
       "array([112.98      , 105.67832347,  47.25      , ..., 102.04      ,\n",
       "        56.01485   , 142.9       ])"
      ]
     },
     "execution_count": 39,
     "metadata": {},
     "output_type": "execute_result"
    }
   ],
   "source": [
    "from sklearn.ensemble import RandomForestRegressor\n",
    "rfr=RandomForestRegressor(criterion='squared_error')\n",
    "rfr.fit(x_train,y_train)\n",
    "rfr_pred=rfr.predict(x_test)\n",
    "rfr_pred"
   ]
  },
  {
   "cell_type": "code",
   "execution_count": 40,
   "id": "82b6980f-ee8c-44d9-b7ec-8eb23b3aa1ab",
   "metadata": {},
   "outputs": [
    {
     "data": {
      "text/plain": [
       "11782.28464907047"
      ]
     },
     "execution_count": 40,
     "metadata": {},
     "output_type": "execute_result"
    }
   ],
   "source": [
    "d=mean_squared_error(y_test,rfr_pred)\n",
    "d"
   ]
  },
  {
   "cell_type": "code",
   "execution_count": 41,
   "id": "a2ac11b5-071d-402b-976e-cc162e2c7061",
   "metadata": {},
   "outputs": [],
   "source": [
    "mean_squared_errors.update({\"RFR_model\":d})"
   ]
  },
  {
   "cell_type": "markdown",
   "id": "ba21bc53-8d2e-4504-8927-55c98fface29",
   "metadata": {},
   "source": [
    "# 5. KNeighbour Regressor"
   ]
  },
  {
   "cell_type": "code",
   "execution_count": 42,
   "id": "8a780045-b308-4f21-944a-f03154cbe8ef",
   "metadata": {},
   "outputs": [
    {
     "data": {
      "text/plain": [
       "array([ 53.5  , 128.695,  46.   , ..., 155.   ,  65.905,  74.75 ])"
      ]
     },
     "execution_count": 42,
     "metadata": {},
     "output_type": "execute_result"
    }
   ],
   "source": [
    "from sklearn.neighbors import KNeighborsRegressor\n",
    "knr=KNeighborsRegressor(n_neighbors=2)\n",
    "knr.fit(x_train,y_train)\n",
    "knr_pred=knr.predict(x_test)\n",
    "knr_pred"
   ]
  },
  {
   "cell_type": "code",
   "execution_count": 43,
   "id": "3fa2f2d4-0793-4dea-9c35-b9985a16b627",
   "metadata": {},
   "outputs": [
    {
     "data": {
      "text/plain": [
       "25142.019168430932"
      ]
     },
     "execution_count": 43,
     "metadata": {},
     "output_type": "execute_result"
    }
   ],
   "source": [
    "e=mean_squared_error(y_test,knr_pred)\n",
    "e"
   ]
  },
  {
   "cell_type": "code",
   "execution_count": 44,
   "id": "fa1c6985-3548-4c5c-b343-ad9dfd302a81",
   "metadata": {},
   "outputs": [],
   "source": [
    "mean_squared_errors.update({\"KNR_model\":e})"
   ]
  },
  {
   "cell_type": "markdown",
   "id": "47b767a0-ac1e-43c2-876b-aa411943bf7e",
   "metadata": {},
   "source": [
    "# To find best model from above models"
   ]
  },
  {
   "cell_type": "code",
   "execution_count": 45,
   "id": "9731a8b2-d25f-48db-9e72-c617b4946ca7",
   "metadata": {},
   "outputs": [
    {
     "data": {
      "text/plain": [
       "{'linear_model': 17476.33878457823,\n",
       " 'DTR_model': 21348.676938531273,\n",
       " 'RFR_model': 11782.28464907047,\n",
       " 'KNR_model': 25142.019168430932}"
      ]
     },
     "execution_count": 45,
     "metadata": {},
     "output_type": "execute_result"
    }
   ],
   "source": [
    "mean_squared_errors"
   ]
  },
  {
   "cell_type": "code",
   "execution_count": 46,
   "id": "46f224ad-5614-41e8-a164-82a4cda6be19",
   "metadata": {},
   "outputs": [
    {
     "data": {
      "text/html": [
       "<div>\n",
       "<style scoped>\n",
       "    .dataframe tbody tr th:only-of-type {\n",
       "        vertical-align: middle;\n",
       "    }\n",
       "\n",
       "    .dataframe tbody tr th {\n",
       "        vertical-align: top;\n",
       "    }\n",
       "\n",
       "    .dataframe thead th {\n",
       "        text-align: right;\n",
       "    }\n",
       "</style>\n",
       "<table border=\"1\" class=\"dataframe\">\n",
       "  <thead>\n",
       "    <tr style=\"text-align: right;\">\n",
       "      <th></th>\n",
       "      <th>0</th>\n",
       "      <th>1</th>\n",
       "    </tr>\n",
       "  </thead>\n",
       "  <tbody>\n",
       "    <tr>\n",
       "      <th>0</th>\n",
       "      <td>linear_model</td>\n",
       "      <td>17476.338785</td>\n",
       "    </tr>\n",
       "    <tr>\n",
       "      <th>1</th>\n",
       "      <td>DTR_model</td>\n",
       "      <td>21348.676939</td>\n",
       "    </tr>\n",
       "    <tr>\n",
       "      <th>2</th>\n",
       "      <td>RFR_model</td>\n",
       "      <td>11782.284649</td>\n",
       "    </tr>\n",
       "    <tr>\n",
       "      <th>3</th>\n",
       "      <td>KNR_model</td>\n",
       "      <td>25142.019168</td>\n",
       "    </tr>\n",
       "  </tbody>\n",
       "</table>\n",
       "</div>"
      ],
      "text/plain": [
       "              0             1\n",
       "0  linear_model  17476.338785\n",
       "1     DTR_model  21348.676939\n",
       "2     RFR_model  11782.284649\n",
       "3     KNR_model  25142.019168"
      ]
     },
     "execution_count": 46,
     "metadata": {},
     "output_type": "execute_result"
    }
   ],
   "source": [
    "df_models=pd.DataFrame.from_dict(mean_squared_errors.items())\n",
    "df_models"
   ]
  },
  {
   "cell_type": "code",
   "execution_count": 47,
   "id": "74417b74-4cca-4c55-a102-cb438dc22b50",
   "metadata": {},
   "outputs": [
    {
     "data": {
      "text/plain": [
       "'RFR_model'"
      ]
     },
     "execution_count": 47,
     "metadata": {},
     "output_type": "execute_result"
    }
   ],
   "source": [
    "min_value = min(mean_squared_errors.values())\n",
    "val_list=list(mean_squared_errors.values())\n",
    "key_list=list(mean_squared_errors.keys())\n",
    "def return_key(min_value):\n",
    "    for i in range(len(mean_squared_errors)):\n",
    "        if val_list[i] == min_value:\n",
    "            return key_list[i] \n",
    "return_key(min_value)"
   ]
  },
  {
   "cell_type": "markdown",
   "id": "77a33a6a-3362-4e42-9a14-ab52717d9794",
   "metadata": {},
   "source": [
    "# CROSS VALIDATION SCORES"
   ]
  },
  {
   "cell_type": "code",
   "execution_count": 48,
   "id": "2c186599-947e-45f5-80ad-f79b50116eda",
   "metadata": {},
   "outputs": [],
   "source": [
    "from sklearn.model_selection import KFold, cross_val_score, GridSearchCV"
   ]
  },
  {
   "cell_type": "code",
   "execution_count": 49,
   "id": "9fb74a0e-0d74-4f09-8d44-7104faa001a2",
   "metadata": {},
   "outputs": [],
   "source": [
    "models={'Linear':LinearRegression(),'Decision_tree':DecisionTreeRegressor(),'Random_forest':RandomForestRegressor()}#'KNeighbor':KNeighborsRegressor()} "
   ]
  },
  {
   "cell_type": "code",
   "execution_count": 50,
   "id": "0bfb10a2-9d72-43ed-bc32-741bdca63d9e",
   "metadata": {},
   "outputs": [
    {
     "data": {
      "text/plain": [
       "[('Linear', 0.17633032592717893),\n",
       " ('Decision_tree', 0.06982027493819838),\n",
       " ('Random_forest', 0.4468006489285442)]"
      ]
     },
     "execution_count": 50,
     "metadata": {},
     "output_type": "execute_result"
    }
   ],
   "source": [
    "res=[]\n",
    "for i in models:\n",
    "    model=models[i]\n",
    "    scores=cross_val_score(model,x,y,cv=5)\n",
    "    a=(i,scores.mean())\n",
    "    res.append(a)\n",
    "res"
   ]
  },
  {
   "cell_type": "markdown",
   "id": "049f2978-804d-47eb-89af-b19a6416de70",
   "metadata": {},
   "source": [
    "# Tuning Parameters"
   ]
  },
  {
   "cell_type": "code",
   "execution_count": 51,
   "id": "211fd0b0-e1d9-46d0-b2f0-206ddf88ad5c",
   "metadata": {},
   "outputs": [],
   "source": [
    "linr_params={'fit_intercept':[True,False], 'positive':[True,False]}\n",
    "dtr_params={'splitter':['best','random'], 'criterion':['squared_error','absolute_error','friedman_mse','poisson']}\n",
    "rfr_params={'n_estimators':[10,50,100], 'criterion':['squared_error','absolute_error','friedman_mse','poisson']}\n",
    "#knr_params={'n_neighbors':[3,5,8,9], 'weights':['uniform','distance'],'algorithm':['auto','ball_tree','kd_tree','brute']}"
   ]
  },
  {
   "cell_type": "code",
   "execution_count": 52,
   "id": "3992c928-0567-4b75-b13c-56e9ab4bdbf0",
   "metadata": {},
   "outputs": [],
   "source": [
    "model_details={'lr':{'model':LinearRegression(),'params':linr_params},\n",
    "               'dtr':{'model':DecisionTreeRegressor(),'params':dtr_params},\n",
    "               'rfr':{'model':RandomForestRegressor(),'params':rfr_params},\n",
    "               #'knr':{'model':KNeighborsRegressor(),'params':knr_params} \n",
    "              }"
   ]
  },
  {
   "cell_type": "code",
   "execution_count": 53,
   "id": "63346080-9a04-4985-8487-52e65ed44d5b",
   "metadata": {},
   "outputs": [
    {
     "name": "stdout",
     "output_type": "stream",
     "text": [
      "{'model': LinearRegression(), 'params': {'fit_intercept': [True, False], 'positive': [True, False]}}\n",
      "{'model': DecisionTreeRegressor(), 'params': {'splitter': ['best', 'random'], 'criterion': ['squared_error', 'absolute_error', 'friedman_mse', 'poisson']}}\n",
      "{'model': RandomForestRegressor(), 'params': {'n_estimators': [10, 50, 100], 'criterion': ['squared_error', 'absolute_error', 'friedman_mse', 'poisson']}}\n",
      "[{'model': 'lr', 'best_params': {'fit_intercept': True, 'positive': True}, 'best_score': 0.17640540747259134}, {'model': 'dtr', 'best_params': {'criterion': 'squared_error', 'splitter': 'best'}, 'best_score': 0.08972072923000851}, {'model': 'rfr', 'best_params': {'criterion': 'squared_error', 'n_estimators': 50}, 'best_score': 0.45124695484419225}]\n"
     ]
    }
   ],
   "source": [
    "result=[]\n",
    "for model_name in model_details:\n",
    "    model_dict = model_details.get(model_name)\n",
    "    model = model_dict.get('model')\n",
    "    params = model_dict.get('params')\n",
    "    print(model_dict)\n",
    "    cv = GridSearchCV(model,params,cv=5,return_train_score=True)\n",
    "    cv.fit(x,y)\n",
    "    bp = cv.best_params_\n",
    "    bs = cv.best_score_\n",
    "    t_res = {'model':model_name, 'best_params':bp, 'best_score':bs}\n",
    "    result.append(t_res)\n",
    "print(result)"
   ]
  },
  {
   "cell_type": "code",
   "execution_count": null,
   "id": "27319442-5782-4294-8e0a-ba4c35e915fe",
   "metadata": {},
   "outputs": [],
   "source": []
  }
 ],
 "metadata": {
  "kernelspec": {
   "display_name": "Python 3 (ipykernel)",
   "language": "python",
   "name": "python3"
  },
  "language_info": {
   "codemirror_mode": {
    "name": "ipython",
    "version": 3
   },
   "file_extension": ".py",
   "mimetype": "text/x-python",
   "name": "python",
   "nbconvert_exporter": "python",
   "pygments_lexer": "ipython3",
   "version": "3.9.13"
  }
 },
 "nbformat": 4,
 "nbformat_minor": 5
}
